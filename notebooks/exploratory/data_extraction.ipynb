{
 "cells": [
  {
   "cell_type": "code",
   "execution_count": 16,
   "id": "f9d2fa24",
   "metadata": {},
   "outputs": [
    {
     "data": {
      "text/plain": [
       "True"
      ]
     },
     "execution_count": 16,
     "metadata": {},
     "output_type": "execute_result"
    }
   ],
   "source": [
    "import kaggle\n",
    "\n",
    "from kaggle.api.kaggle_api_extended import KaggleApi\n",
    "\n",
    "#make path ../src/data/raw/get_raw_data.py if doesn't exist already\n",
    "get_raw_data_script_file = os.path.join(os.path.pardir,'src','data','get_raw_data.py')\n",
    "get_raw_data_script_file =os.path.abspath(get_raw_data_script_file)\n",
    "get_raw_data_script_path = os.path.join(os.path.pardir,'src','data')\n",
    "get_raw_data_script_path = os.path.join(os.path.pardir,get_raw_data_script_path,'raw')\n",
    "if not os.path.exists(get_raw_data_script_path):\n",
    "    os.makedirs(get_raw_data_script_path)\n",
    "    \n",
    "api = KaggleApi()\n",
    "api.authenticate()\n",
    "\n",
    "# download single file\n",
    "#Signature: dataset_download_file(dataset, file_name, path=None, force=False, quiet=True)\n",
    "api.dataset_download_file('berkeleyearth/climate-change-earth-surface-temperature-data','GlobalLandTemperaturesbyCity.csv', path = get_raw_data_script_path)"
   ]
  },
  {
   "cell_type": "code",
   "execution_count": null,
   "id": "54a300ac",
   "metadata": {},
   "outputs": [],
   "source": []
  }
 ],
 "metadata": {
  "kernelspec": {
   "display_name": "Python 3",
   "language": "python",
   "name": "python3"
  },
  "language_info": {
   "codemirror_mode": {
    "name": "ipython",
    "version": 3
   },
   "file_extension": ".py",
   "mimetype": "text/x-python",
   "name": "python",
   "nbconvert_exporter": "python",
   "pygments_lexer": "ipython3",
   "version": "3.8.8"
  }
 },
 "nbformat": 4,
 "nbformat_minor": 5
}
